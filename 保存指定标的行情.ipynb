{
 "cells": [
  {
   "cell_type": "code",
   "execution_count": 2,
   "metadata": {},
   "outputs": [
    {
     "ename": "ModuleNotFoundError",
     "evalue": "No module named 'qastockbase'",
     "output_type": "error",
     "traceback": [
      "\u001b[0;31m---------------------------------------------------------------------------\u001b[0m",
      "\u001b[0;31mModuleNotFoundError\u001b[0m                       Traceback (most recent call last)",
      "\u001b[0;32m<ipython-input-2-0661e1877bcc>\u001b[0m in \u001b[0;36m<module>\u001b[0;34m\u001b[0m\n\u001b[1;32m      1\u001b[0m \u001b[0;32mimport\u001b[0m \u001b[0mQUANTAXIS\u001b[0m \u001b[0;32mas\u001b[0m \u001b[0mQA\u001b[0m\u001b[0;34m\u001b[0m\u001b[0;34m\u001b[0m\u001b[0m\n\u001b[0;32m----> 2\u001b[0;31m \u001b[0;32mfrom\u001b[0m \u001b[0mqastockbase\u001b[0m \u001b[0;32mimport\u001b[0m \u001b[0mQAStrategyStockBase\u001b[0m\u001b[0;34m\u001b[0m\u001b[0;34m\u001b[0m\u001b[0m\n\u001b[0m\u001b[1;32m      3\u001b[0m \u001b[0;32mfrom\u001b[0m \u001b[0mQAPUBSUB\u001b[0m\u001b[0;34m.\u001b[0m\u001b[0mconsumer\u001b[0m \u001b[0;32mimport\u001b[0m \u001b[0msubscriber\u001b[0m\u001b[0;34m,\u001b[0m \u001b[0msubscriber_topic\u001b[0m\u001b[0;34m,\u001b[0m \u001b[0msubscriber_routing\u001b[0m\u001b[0;34m\u001b[0m\u001b[0;34m\u001b[0m\u001b[0m\n\u001b[1;32m      4\u001b[0m \u001b[0;32mfrom\u001b[0m \u001b[0mQAPUBSUB\u001b[0m\u001b[0;34m.\u001b[0m\u001b[0mproducer\u001b[0m \u001b[0;32mimport\u001b[0m \u001b[0mpublisher_routing\u001b[0m\u001b[0;34m\u001b[0m\u001b[0;34m\u001b[0m\u001b[0m\n\u001b[1;32m      5\u001b[0m \u001b[0;32mimport\u001b[0m \u001b[0mjson\u001b[0m\u001b[0;34m\u001b[0m\u001b[0;34m\u001b[0m\u001b[0m\n",
      "\u001b[0;31mModuleNotFoundError\u001b[0m: No module named 'qastockbase'"
     ]
    }
   ],
   "source": [
    "import QUANTAXIS as QA\n",
    "from qastockbase import QAStrategyStockBase\n",
    "from QAPUBSUB.consumer import subscriber, subscriber_topic, subscriber_routing\n",
    "from QAPUBSUB.producer import publisher_routing\n",
    "import json\n",
    "import pandas as pd\n",
    "import io\n",
    "import sys\n",
    "import os\n",
    "import pymongo\n",
    "from qaenv import (eventmq_ip, eventmq_password, eventmq_port,\n",
    "                   eventmq_username, mongo_ip)\n",
    "from QIFIAccount import QIFI_Account\n",
    "import datetime\n",
    "\n",
    "import requests\n",
    "import uuid\n",
    "\n",
    "\n",
    "class strategy(QAStrategyStockBase):\n",
    "    def on_bar(self, data):\n",
    "        code = data.iloc[-1].name[1]\n",
    "        print(code)\n",
    "        \n",
    "\n",
    "    \n",
    "if __name__ == '__main__':\n",
    "    codes = ['000338', '300014']\n",
    "    s = strategy(code=codes, frequence='1min',\n",
    "                 start='2021-01-18', end='2021-01-22', strategy_id='x_bond_Ma_cross_test1', market_type='stock_cn')\n",
    "    #s.market_type = 'future_cn'\n",
    "    s.debug_sim()\n"
   ]
  },
  {
   "cell_type": "code",
   "execution_count": 2,
   "metadata": {},
   "outputs": [
    {
     "name": "stdout",
     "output_type": "stream",
     "text": [
      "[2]\n"
     ]
    }
   ],
   "source": [
    "a= [[1],[2]]\n",
    "\n",
    "print(a[1])\n"
   ]
  },
  {
   "cell_type": "code",
   "execution_count": null,
   "metadata": {},
   "outputs": [],
   "source": [
    "mdx +1.6 指数 -2.6"
   ]
  },
  {
   "cell_type": "code",
   "execution_count": 6,
   "metadata": {},
   "outputs": [
    {
     "name": "stderr",
     "output_type": "stream",
     "text": [
      "QUANTAXIS>> Starting DOWNLOAD PROGRESS of min Klines from HUOBI_PRO... \n",
      "QUANTAXIS>> DOWNLOAD PROGRESS of min Klines from HUOBI_PRO accomplished.\n"
     ]
    }
   ],
   "source": [
    "import QUANTAXIS as QA\n",
    "from QUANTAXIS.QASU.save_huobi import QA_SU_save_huobi_min\n",
    "QA_SU_save_huobi_min(frequency='1min',fetch_range='all')"
   ]
  },
  {
   "cell_type": "code",
   "execution_count": null,
   "metadata": {},
   "outputs": [],
   "source": []
  }
 ],
 "metadata": {
  "kernelspec": {
   "display_name": "Python 3",
   "language": "python",
   "name": "python3"
  },
  "language_info": {
   "codemirror_mode": {
    "name": "ipython",
    "version": 3
   },
   "file_extension": ".py",
   "mimetype": "text/x-python",
   "name": "python",
   "nbconvert_exporter": "python",
   "pygments_lexer": "ipython3",
   "version": "3.8.5"
  }
 },
 "nbformat": 4,
 "nbformat_minor": 4
}

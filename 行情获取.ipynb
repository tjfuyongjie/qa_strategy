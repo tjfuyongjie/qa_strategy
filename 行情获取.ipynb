{
 "cells": [
  {
   "cell_type": "code",
   "execution_count": 6,
   "metadata": {},
   "outputs": [
    {
     "name": "stdout",
     "output_type": "stream",
     "text": [
      "                     code        open        high         low       close  \\\n",
      "date                                                                        \n",
      "2021-04-01  HUOBI.btcusdt  59302.1800  59650.0000  58122.3300  58388.7800   \n",
      "2021-04-02  HUOBI.btcusdt  58977.8700  60169.8500  57935.0400  59508.2200   \n",
      "2021-04-03  HUOBI.btcusdt  59488.5000  59624.0900  58466.2900  59410.9500   \n",
      "2021-04-01  HUOBI.eosusdt      4.3895      4.9700      4.3640      4.7663   \n",
      "2021-04-02  HUOBI.eosusdt      4.8762      5.9828      4.8761      5.5897   \n",
      "2021-04-03  HUOBI.eosusdt      5.7580      6.4935      5.7532      6.2870   \n",
      "2021-04-01  HUOBI.ethusdt   1848.9800   1968.3600   1838.0000   1916.7000   \n",
      "2021-04-02  HUOBI.ethusdt   1944.0300   2010.7300   1885.4800   2001.5400   \n",
      "2021-04-03  HUOBI.ethusdt   2074.2100   2146.4000   2031.0900   2122.0900   \n",
      "\n",
      "                  volume     trade        amount       date  \n",
      "date                                                         \n",
      "2021-04-01  8.697650e+08  771967.0  1.475497e+04 2021-04-01  \n",
      "2021-04-02  9.334304e+08  791814.0  1.576812e+04 2021-04-02  \n",
      "2021-04-03  4.568267e+08  467937.0  7.727096e+03 2021-04-03  \n",
      "2021-04-01  2.144786e+08  512704.0  4.519336e+07 2021-04-01  \n",
      "2021-04-02  4.292272e+08  963282.0  7.833508e+07 2021-04-02  \n",
      "2021-04-03  3.218254e+08  581941.0  5.222611e+07 2021-04-03  \n",
      "2021-04-01  1.023030e+09  770474.0  5.343553e+05 2021-04-01  \n",
      "2021-04-02  1.001064e+09  758236.0  5.072963e+05 2021-04-02  \n",
      "2021-04-03  6.450597e+08  555851.0  3.084997e+05 2021-04-03  \n"
     ]
    }
   ],
   "source": [
    "import QUANTAXIS as QA\n",
    "a = QA.QA_fetch_cryptocurrency_day(\n",
    "            code=[\n",
    "                'HUOBI.btcusdt',\n",
    "                'HUOBI.ethusdt',\n",
    "                'HUOBI.eosusdt',\n",
    "            ],\n",
    "            start='2021-03-01',\n",
    "            end='2021-04-03 00:00:00',\n",
    "            format='pd'\n",
    "        )\n",
    "print(a)        \n",
    "#QA.QA_fetch_cryptocurrency_day('000001','2017-01-01','2017-10-01')"
   ]
  },
  {
   "cell_type": "code",
   "execution_count": 6,
   "metadata": {},
   "outputs": [
    {
     "name": "stdout",
     "output_type": "stream",
     "text": [
      "2018-02-01 06:00:00\n"
     ]
    }
   ],
   "source": [
    "import datetime\n",
    "datetime.datetime.now()\n",
    "\n",
    "import datetime\n",
    "  \n",
    "new = '2018-01-31 06:00'\n",
    "'''每月一号+1天'''\n",
    "new = datetime.datetime.strptime(new,\"%Y-%m-%d %H:%M\")+datetime.timedelta(days=1)\n",
    "print(new)\n"
   ]
  },
  {
   "cell_type": "code",
   "execution_count": 7,
   "metadata": {},
   "outputs": [
    {
     "name": "stdout",
     "output_type": "stream",
     "text": [
      "2018-01-31 06:00:00\n"
     ]
    }
   ],
   "source": [
    "new = '2018-01-31 06:00'\n",
    "preLastPreMinTime = datetime.datetime.strptime(new,\"%Y-%m-%d %H:%M\")\n",
    "\n",
    "print(preLastPreMinTime)"
   ]
  },
  {
   "cell_type": "code",
   "execution_count": null,
   "metadata": {},
   "outputs": [],
   "source": []
  }
 ],
 "metadata": {
  "kernelspec": {
   "display_name": "Python 3",
   "language": "python",
   "name": "python3"
  },
  "language_info": {
   "codemirror_mode": {
    "name": "ipython",
    "version": 3
   },
   "file_extension": ".py",
   "mimetype": "text/x-python",
   "name": "python",
   "nbconvert_exporter": "python",
   "pygments_lexer": "ipython3",
   "version": "3.8.5"
  }
 },
 "nbformat": 4,
 "nbformat_minor": 4
}

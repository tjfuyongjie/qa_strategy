{
 "cells": [
  {
   "cell_type": "code",
   "execution_count": null,
   "metadata": {},
   "outputs": [
    {
     "name": "stdout",
     "output_type": "stream",
     "text": [
      "订阅远程行情开始：\n"
     ]
    }
   ],
   "source": [
    "import QUANTAXIS as QA\n",
    "from qastockbase import QAStrategyStockBase\n",
    "from QAPUBSUB.consumer import subscriber, subscriber_topic, subscriber_routing\n",
    "from QAPUBSUB.producer import publisher_routing\n",
    "import json\n",
    "import pandas as pd\n",
    "import io\n",
    "import sys\n",
    "import os\n",
    "import pymongo\n",
    "from qaenv import (eventmq_ip, eventmq_password, eventmq_port,\n",
    "                   eventmq_username, mongo_ip)\n",
    "from QIFIAccount import QIFI_Account\n",
    "import datetime\n",
    "\n",
    "import requests\n",
    "import uuid\n",
    "\n",
    "\n",
    "class strategy(QAStrategyStockBase):\n",
    "    def on_bar(self, data):\n",
    "        code = data.iloc[-1].name[1]\n",
    "        print('code:',code)\n",
    "        print(self.running_time)\n",
    "        print(self._market_data)\n",
    "        newbar = self.get_code_marketdata(code)\n",
    "        print(newbar)\n",
    "        \n",
    "        \n",
    "\n",
    "    \n",
    "if __name__ == '__main__':\n",
    "    stock_pool_pd = pd.read_csv(\"/root/sim/stock_strategy/stock_pool.csv\",encoding='utf-8',converters = {'code':str});\n",
    "    stock_pool_list = stock_pool_pd['code'].tolist()\n",
    "    #codes = ['000338', '300014']\n",
    "    s = strategy(code=stock_pool_list, frequence='5min',\n",
    "                 start='2021-01-18', end='2021-01-26', strategy_id='x_bond_Ma_cross_test1', market_type='stock_cn', send_wx=True)\n",
    "    #s.market_type = 'future_cn'\n",
    "    s.debug_sim()\n",
    "    s.add_subscriber(qaproid=\"oL-C4w2cSApfgeB6Uy9028RomZp4\")\n"
   ]
  },
  {
   "cell_type": "code",
   "execution_count": 13,
   "metadata": {},
   "outputs": [
    {
     "name": "stdout",
     "output_type": "stream",
     "text": [
      "1844\n"
     ]
    }
   ],
   "source": [
    "import time\n",
    "import datetime\n",
    "ordertime = str(\"2021-04-24 10:46:00\")\n",
    "ordertimeInt = datetime.datetime.strptime(ordertime, '%Y-%m-%d %H:%M:%S')\n",
    "start = datetime.datetime.now()\n",
    "delay = int((start - ordertimeInt).total_seconds()-500)\n",
    "print(delay)"
   ]
  },
  {
   "cell_type": "code",
   "execution_count": 1,
   "metadata": {},
   "outputs": [
    {
     "ename": "NameError",
     "evalue": "name 'QA' is not defined",
     "output_type": "error",
     "traceback": [
      "\u001b[0;31m---------------------------------------------------------------------------\u001b[0m",
      "\u001b[0;31mNameError\u001b[0m                                 Traceback (most recent call last)",
      "\u001b[0;32m<ipython-input-1-9233c149f525>\u001b[0m in \u001b[0;36m<module>\u001b[0;34m\u001b[0m\n\u001b[0;32m----> 1\u001b[0;31m _old_data = QA.QA_fetch_stock_min(self.code, QA.QA_util_get_last_day(\n\u001b[0m\u001b[1;32m      2\u001b[0m             QA.QA_util_get_real_date(str(datetime.date.today())), 5), str(datetime.datetime.now()), format='pd',\n\u001b[1;32m      3\u001b[0m                                                frequence=self.frequence).set_index(['datetime', 'code'])\n",
      "\u001b[0;31mNameError\u001b[0m: name 'QA' is not defined"
     ]
    }
   ],
   "source": [
    "import QUANTAXIS as QA\n",
    "_old_data = QA.QA_fetch_stock_min(self.code, QA.QA_util_get_last_day(\n",
    "            QA.QA_util_get_real_date(str(datetime.date.today())), 5), str(datetime.datetime.now()), format='pd',\n",
    "                                               frequence=self.frequence).set_index(['datetime', 'code'])"
   ]
  },
  {
   "cell_type": "code",
   "execution_count": null,
   "metadata": {},
   "outputs": [],
   "source": []
  }
 ],
 "metadata": {
  "kernelspec": {
   "display_name": "Python 3",
   "language": "python",
   "name": "python3"
  },
  "language_info": {
   "codemirror_mode": {
    "name": "ipython",
    "version": 3
   },
   "file_extension": ".py",
   "mimetype": "text/x-python",
   "name": "python",
   "nbconvert_exporter": "python",
   "pygments_lexer": "ipython3",
   "version": "3.8.5"
  }
 },
 "nbformat": 4,
 "nbformat_minor": 4
}

{
 "cells": [
  {
   "cell_type": "code",
   "execution_count": 1,
   "metadata": {},
   "outputs": [
    {
     "name": "stdout",
     "output_type": "stream",
     "text": [
      "['002340', '000338', '300014', '000545', '300552', '601877']\n",
      "jqdatasdk not installed\n",
      "you are using non-interactive mdoel quantaxis\n"
     ]
    },
    {
     "name": "stderr",
     "output_type": "stream",
     "text": [
      "QUANTAXIS>> ##JOB03 Now Saving STOCK_MIN ==== 002340\n",
      "QUANTAXIS>> ##JOB03.0 Now Saving 002340 from 2021-01-27 15:00:00 to 2021-01-28 15:00:00 ==1min \n",
      "QUANTAXIS>> Selecting the Best Server IP of TDX\n"
     ]
    },
    {
     "name": "stdout",
     "output_type": "stream",
     "text": [
      "USING DEFAULT STOCK IP\n",
      "USING DEFAULT FUTURE IP\n"
     ]
    },
    {
     "name": "stderr",
     "output_type": "stream",
     "text": [
      "QUANTAXIS>> === The BEST SERVER ===\n",
      " stock_ip 123.125.108.24 future_ip 59.175.238.38\n",
      "QUANTAXIS>> ##JOB03.1 Now Saving 002340 from 2021-01-27 15:00:00 to 2021-01-28 15:00:00 ==5min \n",
      "QUANTAXIS>> ##JOB03.2 Now Saving 002340 from 2021-01-27 15:00:00 to 2021-01-28 15:00:00 ==15min \n",
      "QUANTAXIS>> ##JOB03.3 Now Saving 002340 from 2021-01-27 15:00:00 to 2021-01-28 15:00:00 ==30min \n",
      "QUANTAXIS>> ##JOB03.4 Now Saving 002340 from 2021-01-27 15:00:00 to 2021-01-28 15:00:00 ==60min \n",
      "QUANTAXIS>> The 1 of Total 1\n",
      "QUANTAXIS>> DOWNLOAD PROGRESS 100.% \n",
      "QUANTAXIS>> SUCCESS\n",
      "QUANTAXIS>> ##JOB01 Now Saving STOCK_DAY==== 002340\n",
      "QUANTAXIS>> UPDATE_STOCK_DAY \n",
      " Trying updating 002340 from 2021-01-27 to 2021-01-28\n",
      "QUANTAXIS>> SUCCESS save stock day ^_^\n",
      "QUANTAXIS>> ##JOB03 Now Saving STOCK_MIN ==== 000338\n",
      "QUANTAXIS>> ##JOB03.0 Now Saving 000338 from 2021-01-27 15:00:00 to 2021-01-28 15:00:00 ==1min \n",
      "QUANTAXIS>> ##JOB03.1 Now Saving 000338 from 2021-01-27 15:00:00 to 2021-01-28 15:00:00 ==5min \n",
      "QUANTAXIS>> ##JOB03.2 Now Saving 000338 from 2021-01-27 15:00:00 to 2021-01-28 15:00:00 ==15min \n",
      "QUANTAXIS>> ##JOB03.3 Now Saving 000338 from 2021-01-27 15:00:00 to 2021-01-28 15:00:00 ==30min \n",
      "QUANTAXIS>> ##JOB03.4 Now Saving 000338 from 2021-01-27 15:00:00 to 2021-01-28 15:00:00 ==60min \n",
      "QUANTAXIS>> The 1 of Total 1\n",
      "QUANTAXIS>> DOWNLOAD PROGRESS 100.% \n",
      "QUANTAXIS>> SUCCESS\n",
      "QUANTAXIS>> ##JOB01 Now Saving STOCK_DAY==== 000338\n",
      "QUANTAXIS>> UPDATE_STOCK_DAY \n",
      " Trying updating 000338 from 2021-01-27 to 2021-01-28\n",
      "QUANTAXIS>> SUCCESS save stock day ^_^\n",
      "QUANTAXIS>> ##JOB03 Now Saving STOCK_MIN ==== 300014\n",
      "QUANTAXIS>> ##JOB03.0 Now Saving 300014 from 2021-01-27 15:00:00 to 2021-01-28 15:00:00 ==1min \n",
      "QUANTAXIS>> ##JOB03.1 Now Saving 300014 from 2021-01-27 15:00:00 to 2021-01-28 15:00:00 ==5min \n",
      "QUANTAXIS>> ##JOB03.2 Now Saving 300014 from 2021-01-27 15:00:00 to 2021-01-28 15:00:00 ==15min \n",
      "QUANTAXIS>> ##JOB03.3 Now Saving 300014 from 2021-01-27 15:00:00 to 2021-01-28 15:00:00 ==30min \n",
      "QUANTAXIS>> ##JOB03.4 Now Saving 300014 from 2021-01-27 15:00:00 to 2021-01-28 15:00:00 ==60min \n",
      "QUANTAXIS>> The 1 of Total 1\n",
      "QUANTAXIS>> DOWNLOAD PROGRESS 100.% \n",
      "QUANTAXIS>> SUCCESS\n",
      "QUANTAXIS>> ##JOB01 Now Saving STOCK_DAY==== 300014\n",
      "QUANTAXIS>> UPDATE_STOCK_DAY \n",
      " Trying updating 300014 from 2021-01-27 to 2021-01-28\n",
      "QUANTAXIS>> SUCCESS save stock day ^_^\n",
      "QUANTAXIS>> ##JOB03 Now Saving STOCK_MIN ==== 000545\n",
      "QUANTAXIS>> ##JOB03.0 Now Saving 000545 from 2021-01-27 15:00:00 to 2021-01-28 15:00:00 ==1min \n",
      "QUANTAXIS>> ##JOB03.1 Now Saving 000545 from 2021-01-27 15:00:00 to 2021-01-28 15:00:00 ==5min \n",
      "QUANTAXIS>> ##JOB03.2 Now Saving 000545 from 2021-01-27 15:00:00 to 2021-01-28 15:00:00 ==15min \n",
      "QUANTAXIS>> ##JOB03.3 Now Saving 000545 from 2021-01-27 15:00:00 to 2021-01-28 15:00:00 ==30min \n",
      "QUANTAXIS>> ##JOB03.4 Now Saving 000545 from 2021-01-27 15:00:00 to 2021-01-28 15:00:00 ==60min \n",
      "QUANTAXIS>> The 1 of Total 1\n",
      "QUANTAXIS>> DOWNLOAD PROGRESS 100.% \n",
      "QUANTAXIS>> SUCCESS\n",
      "QUANTAXIS>> ##JOB01 Now Saving STOCK_DAY==== 000545\n",
      "QUANTAXIS>> UPDATE_STOCK_DAY \n",
      " Trying updating 000545 from 2021-01-27 to 2021-01-28\n",
      "QUANTAXIS>> SUCCESS save stock day ^_^\n",
      "QUANTAXIS>> ##JOB03 Now Saving STOCK_MIN ==== 300552\n",
      "QUANTAXIS>> ##JOB03.0 Now Saving 300552 from 2021-01-27 15:00:00 to 2021-01-28 15:00:00 ==1min \n",
      "QUANTAXIS>> ##JOB03.1 Now Saving 300552 from 2021-01-27 15:00:00 to 2021-01-28 15:00:00 ==5min \n",
      "QUANTAXIS>> ##JOB03.2 Now Saving 300552 from 2021-01-27 15:00:00 to 2021-01-28 15:00:00 ==15min \n",
      "QUANTAXIS>> ##JOB03.3 Now Saving 300552 from 2021-01-27 15:00:00 to 2021-01-28 15:00:00 ==30min \n",
      "QUANTAXIS>> ##JOB03.4 Now Saving 300552 from 2021-01-27 15:00:00 to 2021-01-28 15:00:00 ==60min \n",
      "QUANTAXIS>> The 1 of Total 1\n",
      "QUANTAXIS>> DOWNLOAD PROGRESS 100.% \n",
      "QUANTAXIS>> SUCCESS\n",
      "QUANTAXIS>> ##JOB01 Now Saving STOCK_DAY==== 300552\n",
      "QUANTAXIS>> UPDATE_STOCK_DAY \n",
      " Trying updating 300552 from 2021-01-27 to 2021-01-28\n",
      "QUANTAXIS>> SUCCESS save stock day ^_^\n",
      "QUANTAXIS>> ##JOB03 Now Saving STOCK_MIN ==== 601877\n",
      "QUANTAXIS>> ##JOB03.0 Now Saving 601877 from 2021-01-27 15:00:00 to 2021-01-28 15:00:00 ==1min \n",
      "QUANTAXIS>> ##JOB03.1 Now Saving 601877 from 2021-01-27 15:00:00 to 2021-01-28 15:00:00 ==5min \n",
      "QUANTAXIS>> ##JOB03.2 Now Saving 601877 from 2021-01-27 15:00:00 to 2021-01-28 15:00:00 ==15min \n",
      "QUANTAXIS>> ##JOB03.3 Now Saving 601877 from 2021-01-27 15:00:00 to 2021-01-28 15:00:00 ==30min \n",
      "QUANTAXIS>> ##JOB03.4 Now Saving 601877 from 2021-01-27 15:00:00 to 2021-01-28 15:00:00 ==60min \n",
      "QUANTAXIS>> The 1 of Total 1\n",
      "QUANTAXIS>> DOWNLOAD PROGRESS 100.% \n",
      "QUANTAXIS>> SUCCESS\n",
      "QUANTAXIS>> ##JOB01 Now Saving STOCK_DAY==== 601877\n",
      "QUANTAXIS>> UPDATE_STOCK_DAY \n",
      " Trying updating 601877 from 2021-01-27 to 2021-01-28\n",
      "QUANTAXIS>> SUCCESS save stock day ^_^\n"
     ]
    }
   ],
   "source": [
    "import pandas as pd\n",
    "stock_pool_pd = pd.read_csv(\"/root/sim/stock_strategy/stock_pool.csv\",encoding='utf-8',converters = {'code':str});\n",
    "stock_pool_list = stock_pool_pd['code'].tolist()\n",
    "print(stock_pool_list)\n",
    "import pymongo\n",
    "from qaenv import mongo_ip,eventmq_ip\n",
    "import QUANTAXIS as QA\n",
    "from QUANTAXIS.QASU import main\n",
    "from QUANTAXIS.QASU.main import QA_SU_save_single_stock_min,QA_SU_save_single_stock_day\n",
    "\n",
    "DATABASE=pymongo.MongoClient(mongo_ip).quantaxis\n",
    "for code in stock_pool_list:\n",
    "    QA_SU_save_single_stock_min(code,'tdx', client=DATABASE)\n",
    "    QA_SU_save_single_stock_day(code,'tdx', client=DATABASE)"
   ]
  },
  {
   "cell_type": "code",
   "execution_count": null,
   "metadata": {},
   "outputs": [],
   "source": []
  }
 ],
 "metadata": {
  "kernelspec": {
   "display_name": "Python 3",
   "language": "python",
   "name": "python3"
  },
  "language_info": {
   "codemirror_mode": {
    "name": "ipython",
    "version": 3
   },
   "file_extension": ".py",
   "mimetype": "text/x-python",
   "name": "python",
   "nbconvert_exporter": "python",
   "pygments_lexer": "ipython3",
   "version": "3.8.5"
  }
 },
 "nbformat": 4,
 "nbformat_minor": 4
}

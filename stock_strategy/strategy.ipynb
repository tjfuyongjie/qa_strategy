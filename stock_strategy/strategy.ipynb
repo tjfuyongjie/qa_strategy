{
 "cells": [
  {
   "cell_type": "code",
   "execution_count": null,
   "metadata": {},
   "outputs": [],
   "source": [
    "import QUANTAXIS as QA\n",
    "from QAStrategy.qastockbase import QAStrategyStockBase\n",
    "import pandas as pd\n",
    "\n",
    "class strategy(QAStrategyStockBase):\n",
    "    def on_bar(self, data):\n",
    "        print('xxxxx',data)\n",
    "        \n",
    "\n",
    "\n",
    "if __name__ == '__main__':\n",
    "    stock_pool_pd = pd.read_csv(\"/root/sim/stock_strategy/stock_pool.csv\",encoding='utf-8',converters = {'code':str});\n",
    "    #print(stock_pool_pd)\n",
    "    stock_pool_list = stock_pool_pd['code'].tolist()\n",
    "    print(\"code:\", stock_pool_list)\n",
    "\n",
    "    s = strategy(code=stock_pool_list, frequence='5min', strategy_id='stock_sim',send_wx=True)\n",
    "    #s.add_subscriber(qaproid=\"oL-C4w2cSApfgeB6Uy9028RomZp4\")\n",
    "    s.debug_sim()\n",
    "    #s.run_sim 进程中阻塞时用\n",
    "\n"
   ]
  },
  {
   "cell_type": "code",
   "execution_count": null,
   "metadata": {},
   "outputs": [],
   "source": [
    "from QAStrategy.qastockbase import QAStrategyStockBase\n",
    "\n",
    "\n",
    "\n",
    "class strategy(QAStrategyStockBase):\n",
    "    def on_bar(self, data):\n",
    "        \n",
    "        print(data)\n",
    "        print(self.get_code_marketdata('000001'))\n",
    "        print(self.get_code_marketdata('000002'))\n",
    "        return \n",
    "        print(self.get_positions('000001'))\n",
    "        print(self.market_data)\n",
    "        \n",
    "        code = data.name[1]\n",
    "        print('---------------under is 当前全市场的market_data --------------')\n",
    "        \n",
    "        print(self.get_current_marketdata())\n",
    "        print('---------------under is 当前品种的market_data --------------')\n",
    "        print(self.get_code_marketdata(code))\n",
    "        print(code)\n",
    "        #print(self.running_time)\n",
    "        input()\n",
    "\n",
    "if __name__ == '__main__':\n",
    "    s = strategy(code=['000001', '000002'], frequence='day', start='2019-01-01', end='2019-02-01', strategy_id='x')\n",
    "    s.run_backtest()"
   ]
  },
  {
   "cell_type": "code",
   "execution_count": null,
   "metadata": {},
   "outputs": [],
   "source": [
    "import pymongo\n",
    "code='000001'\n",
    "pymongo.MongoClient(mongo_ip).quantaxis\n",
    "QA_SU_save_single_stock_min(code : str, client=DATABASE)"
   ]
  },
  {
   "cell_type": "code",
   "execution_count": null,
   "metadata": {},
   "outputs": [],
   "source": [
    "import QUANTAXIS as QA\n",
    "a=QA.QA_fetch_stock_day_adv('000001','2017-01-01','2017-05-31').to_qfq().add_func(QA.QA_indicator_DMI,12,6)\n",
    "print(a)"
   ]
  },
  {
   "cell_type": "code",
   "execution_count": null,
   "metadata": {},
   "outputs": [],
   "source": [
    "import pandas as pd\n",
    "stock_pool_pd = pd.read_csv(\"/sim/stock_strategy/stock_pool.csv\");\n",
    "stock_pool_list = stock_pool_pd['code'].tolist()\n",
    "print(stock_pool_list)\n",
    "import pymongo\n",
    "from qaenv import mongo_ip,eventmq_ip\n",
    "import QUANTAXIS as QA\n",
    "from QUANTAXIS.QASU import main\n",
    "from QUANTAXIS.QASU.main import QA_SU_save_single_stock_min\n",
    "\n",
    "DATABASE=pymongo.MongoClient(mongo_ip).quantaxis\n",
    "for code in stock_pool_list:\n",
    "    QA_SU_save_single_stock_min(code,'tdx', client=DATABASE)\n",
    "    "
   ]
  },
  {
   "cell_type": "code",
   "execution_count": null,
   "metadata": {},
   "outputs": [],
   "source": []
  },
  {
   "cell_type": "code",
   "execution_count": null,
   "metadata": {},
   "outputs": [],
   "source": []
  }
 ],
 "metadata": {
  "kernelspec": {
   "display_name": "Python 3",
   "language": "python",
   "name": "python3"
  },
  "language_info": {
   "codemirror_mode": {
    "name": "ipython",
    "version": 3
   },
   "file_extension": ".py",
   "mimetype": "text/x-python",
   "name": "python",
   "nbconvert_exporter": "python",
   "pygments_lexer": "ipython3",
   "version": "3.8.5"
  }
 },
 "nbformat": 4,
 "nbformat_minor": 4
}

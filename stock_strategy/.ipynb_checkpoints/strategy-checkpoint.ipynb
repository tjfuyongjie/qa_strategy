{
 "cells": [
  {
   "cell_type": "code",
   "execution_count": null,
   "metadata": {},
   "outputs": [
    {
     "name": "stdout",
     "output_type": "stream",
     "text": [
      "jqdatasdk not installed\n",
      "you are using non-interactive mdoel quantaxis\n",
      "code: ['002790']\n",
      "['002790'] 5min 1610553600.0 1610777277.0 Collection(Database(MongoClient(host=['mgdb:27017'], document_class=dict, tz_aware=False, connect=True), 'quantaxis'), 'stock_min')\n",
      "     code  open  high  close   low      vol    date_stamp    time_stamp  \\\n",
      "0  002790  5.24  5.24   5.24  5.24  39378.0  1.610640e+09  1.610677e+09   \n",
      "\n",
      "         date             datetime         tradetime  type  \n",
      "0  2021-01-15  2021-01-15 10:10:09  2021-01-15 10:10  5min  \n"
     ]
    }
   ],
   "source": [
    "import QUANTAXIS as QA\n",
    "from QAStrategy.qastockbase import QAStrategyStockBase\n",
    "import pandas as pd\n",
    "\n",
    "class strategy(QAStrategyStockBase):\n",
    "    def on_bar(self, data):\n",
    "        print('xxxxx',data)\n",
    "        \n",
    "\n",
    "\n",
    "if __name__ == '__main__':\n",
    "    stock_pool_pd = pd.read_csv(\"/root/sim/stock_strategy/stock_pool.csv\",encoding='utf-8',converters = {'code':str});\n",
    "    #print(stock_pool_pd)\n",
    "    stock_pool_list = stock_pool_pd['code'].tolist()\n",
    "    print(\"code:\", stock_pool_list)\n",
    "\n",
    "    s = strategy(code=stock_pool_list, frequence='5min', strategy_id='stock_sim',send_wx=True)\n",
    "    #s.add_subscriber(qaproid=\"oL-C4w2cSApfgeB6Uy9028RomZp4\")\n",
    "    s.debug_sim()\n",
    "    #s.run_sim 进程中阻塞时用\n",
    "\n"
   ]
  },
  {
   "cell_type": "code",
   "execution_count": null,
   "metadata": {},
   "outputs": [],
   "source": []
  },
  {
   "cell_type": "code",
   "execution_count": null,
   "metadata": {},
   "outputs": [],
   "source": []
  }
 ],
 "metadata": {
  "kernelspec": {
   "display_name": "Python 3",
   "language": "python",
   "name": "python3"
  },
  "language_info": {
   "codemirror_mode": {
    "name": "ipython",
    "version": 3
   },
   "file_extension": ".py",
   "mimetype": "text/x-python",
   "name": "python",
   "nbconvert_exporter": "python",
   "pygments_lexer": "ipython3",
   "version": "3.8.5"
  }
 },
 "nbformat": 4,
 "nbformat_minor": 4
}

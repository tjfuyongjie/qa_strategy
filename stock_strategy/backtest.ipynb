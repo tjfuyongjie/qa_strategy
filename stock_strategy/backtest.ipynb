{
 "cells": [
  {
   "cell_type": "code",
   "execution_count": null,
   "metadata": {},
   "outputs": [
    {
     "name": "stdout",
     "output_type": "stream",
     "text": [
      "2021-05-18 13:48:08.064746\n",
      "2021-05-11\n",
      "我是用户初始化。。。。['002340', '000338']\n",
      "订阅远程行情开始：\n",
      "      code   open   high  close    low          vol       volume  type  \\\n",
      "0   000338  17.36  17.38  17.37  17.35   40431966.0   40431966.0  5min   \n",
      "1   000338  17.37  17.40  17.39  17.36   41039395.0   41039395.0  5min   \n",
      "2   000338  17.39  17.47  17.47  17.39   41626039.0   41626039.0  5min   \n",
      "3   000338  17.47  17.50  17.47  17.45   43188626.0   43188626.0  5min   \n",
      "4   000338  17.47  17.48  17.46  17.45   43896612.0   43896612.0  5min   \n",
      "5   000338  17.45  17.46  17.45  17.43   44469075.0   44469075.0  5min   \n",
      "6   000338  17.45  17.47  17.45  17.43   45116084.0   45116084.0  5min   \n",
      "7   000338  17.46  17.48  17.48  17.45   45897778.0   45897778.0  5min   \n",
      "8   002340  10.80  10.80  10.75  10.75  222818902.0  222818902.0  5min   \n",
      "9   002340  10.76  10.78  10.74  10.74  225486296.0  225486296.0  5min   \n",
      "10  002340  10.74  10.77  10.77  10.72  229044089.0  229044089.0  5min   \n",
      "11  002340  10.77  10.77  10.75  10.73  231710364.0  231710364.0  5min   \n",
      "12  002340  10.75  10.80  10.77  10.75  234237776.0  234237776.0  5min   \n",
      "13  002340  10.76  10.79  10.79  10.75  236766311.0  236766311.0  5min   \n",
      "14  002340  10.79  10.79  10.75  10.74  239226129.0  239226129.0  5min   \n",
      "15  002340  10.76  10.77  10.76  10.75  241880092.0  241880092.0  5min   \n",
      "\n",
      "      date_stamp    time_stamp        date            datetime  \\\n",
      "0   1.621267e+09  1.621314e+09  2021-05-18 2021-05-18 13:05:00   \n",
      "1   1.621267e+09  1.621315e+09  2021-05-18 2021-05-18 13:10:00   \n",
      "2   1.621267e+09  1.621315e+09  2021-05-18 2021-05-18 13:15:00   \n",
      "3   1.621267e+09  1.621315e+09  2021-05-18 2021-05-18 13:20:00   \n",
      "4   1.621267e+09  1.621316e+09  2021-05-18 2021-05-18 13:25:00   \n",
      "5   1.621267e+09  1.621316e+09  2021-05-18 2021-05-18 13:30:00   \n",
      "6   1.621267e+09  1.621316e+09  2021-05-18 2021-05-18 13:35:00   \n",
      "7   1.621267e+09  1.621316e+09  2021-05-18 2021-05-18 13:40:00   \n",
      "8   1.621267e+09  1.621314e+09  2021-05-18 2021-05-18 13:05:00   \n",
      "9   1.621267e+09  1.621315e+09  2021-05-18 2021-05-18 13:10:00   \n",
      "10  1.621267e+09  1.621315e+09  2021-05-18 2021-05-18 13:15:00   \n",
      "11  1.621267e+09  1.621315e+09  2021-05-18 2021-05-18 13:20:00   \n",
      "12  1.621267e+09  1.621316e+09  2021-05-18 2021-05-18 13:25:00   \n",
      "13  1.621267e+09  1.621316e+09  2021-05-18 2021-05-18 13:30:00   \n",
      "14  1.621267e+09  1.621316e+09  2021-05-18 2021-05-18 13:35:00   \n",
      "15  1.621267e+09  1.621316e+09  2021-05-18 2021-05-18 13:40:00   \n",
      "\n",
      "           tradetime  \n",
      "0   2021-05-18 13:05  \n",
      "1   2021-05-18 13:10  \n",
      "2   2021-05-18 13:15  \n",
      "3   2021-05-18 13:20  \n",
      "4   2021-05-18 13:25  \n",
      "5   2021-05-18 13:30  \n",
      "6   2021-05-18 13:35  \n",
      "7   2021-05-18 13:40  \n",
      "8   2021-05-18 13:05  \n",
      "9   2021-05-18 13:10  \n",
      "10  2021-05-18 13:15  \n",
      "11  2021-05-18 13:20  \n",
      "12  2021-05-18 13:25  \n",
      "13  2021-05-18 13:30  \n",
      "14  2021-05-18 13:35  \n",
      "15  2021-05-18 13:40  \n",
      "<QIFIAccount.QAQIFIAccount.QIFI_Account object at 0x7f4c040ae760>\n",
      "update!!!!!!!!!!!! dt:\n"
     ]
    },
    {
     "name": "stderr",
     "output_type": "stream",
     "text": [
      "QUANTAXIS>> 2021-05-18 13:49:56.801590 UPDATE ACCOUNT\n"
     ]
    },
    {
     "name": "stdout",
     "output_type": "stream",
     "text": [
      "'DataFrame' object has no attribute 'name'\n",
      "update!!!!!!!!!!!! dt:\n"
     ]
    },
    {
     "name": "stderr",
     "output_type": "stream",
     "text": [
      "QUANTAXIS>> 2021-05-18 13:50:14.377558 UPDATE ACCOUNT\n"
     ]
    },
    {
     "name": "stdout",
     "output_type": "stream",
     "text": [
      "'DataFrame' object has no attribute 'name'\n",
      "update!!!!!!!!!!!! dt:\n"
     ]
    },
    {
     "name": "stderr",
     "output_type": "stream",
     "text": [
      "QUANTAXIS>> 2021-05-18 13:50:46.308738 UPDATE ACCOUNT\n"
     ]
    },
    {
     "name": "stdout",
     "output_type": "stream",
     "text": [
      "'DataFrame' object has no attribute 'name'\n",
      "update!!!!!!!!!!!! dt:\n"
     ]
    },
    {
     "name": "stderr",
     "output_type": "stream",
     "text": [
      "QUANTAXIS>> 2021-05-18 13:50:48.300186 UPDATE ACCOUNT\n"
     ]
    },
    {
     "name": "stdout",
     "output_type": "stream",
     "text": [
      "'DataFrame' object has no attribute 'name'\n",
      "update!!!!!!!!!!!! dt:\n"
     ]
    },
    {
     "name": "stderr",
     "output_type": "stream",
     "text": [
      "QUANTAXIS>> 2021-05-18 13:50:48.371657 UPDATE ACCOUNT\n"
     ]
    },
    {
     "name": "stdout",
     "output_type": "stream",
     "text": [
      "'DataFrame' object has no attribute 'name'\n",
      "update!!!!!!!!!!!! dt:\n"
     ]
    },
    {
     "name": "stderr",
     "output_type": "stream",
     "text": [
      "QUANTAXIS>> 2021-05-18 13:50:49.557973 UPDATE ACCOUNT\n"
     ]
    },
    {
     "name": "stdout",
     "output_type": "stream",
     "text": [
      "'DataFrame' object has no attribute 'name'\n",
      "update!!!!!!!!!!!! dt:\n"
     ]
    },
    {
     "name": "stderr",
     "output_type": "stream",
     "text": [
      "QUANTAXIS>> 2021-05-18 13:50:49.642052 UPDATE ACCOUNT\n"
     ]
    },
    {
     "name": "stdout",
     "output_type": "stream",
     "text": [
      "'DataFrame' object has no attribute 'name'\n",
      "update!!!!!!!!!!!! dt:\n"
     ]
    },
    {
     "name": "stderr",
     "output_type": "stream",
     "text": [
      "QUANTAXIS>> 2021-05-18 13:50:50.343418 UPDATE ACCOUNT\n"
     ]
    },
    {
     "name": "stdout",
     "output_type": "stream",
     "text": [
      "'DataFrame' object has no attribute 'name'\n",
      "update!!!!!!!!!!!! dt:\n"
     ]
    },
    {
     "name": "stderr",
     "output_type": "stream",
     "text": [
      "QUANTAXIS>> 2021-05-18 13:50:50.471083 UPDATE ACCOUNT\n"
     ]
    },
    {
     "name": "stdout",
     "output_type": "stream",
     "text": [
      "'DataFrame' object has no attribute 'name'\n",
      "update!!!!!!!!!!!! dt:\n"
     ]
    },
    {
     "name": "stderr",
     "output_type": "stream",
     "text": [
      "QUANTAXIS>> 2021-05-18 13:50:50.591508 UPDATE ACCOUNT\n"
     ]
    },
    {
     "name": "stdout",
     "output_type": "stream",
     "text": [
      "'DataFrame' object has no attribute 'name'\n",
      "update!!!!!!!!!!!! dt:\n"
     ]
    },
    {
     "name": "stderr",
     "output_type": "stream",
     "text": [
      "QUANTAXIS>> 2021-05-18 13:54:56.389298 UPDATE ACCOUNT\n"
     ]
    },
    {
     "name": "stdout",
     "output_type": "stream",
     "text": [
      "'DataFrame' object has no attribute 'name'\n",
      "update!!!!!!!!!!!! dt:\n"
     ]
    },
    {
     "name": "stderr",
     "output_type": "stream",
     "text": [
      "QUANTAXIS>> 2021-05-18 13:55:06.503005 UPDATE ACCOUNT\n"
     ]
    },
    {
     "name": "stdout",
     "output_type": "stream",
     "text": [
      "'DataFrame' object has no attribute 'name'\n",
      "update!!!!!!!!!!!! dt:\n"
     ]
    },
    {
     "name": "stderr",
     "output_type": "stream",
     "text": [
      "QUANTAXIS>> 2021-05-18 13:55:35.476064 UPDATE ACCOUNT\n"
     ]
    },
    {
     "name": "stdout",
     "output_type": "stream",
     "text": [
      "'DataFrame' object has no attribute 'name'\n",
      "update!!!!!!!!!!!! dt:\n"
     ]
    },
    {
     "name": "stderr",
     "output_type": "stream",
     "text": [
      "QUANTAXIS>> 2021-05-18 13:55:39.015244 UPDATE ACCOUNT\n"
     ]
    },
    {
     "name": "stdout",
     "output_type": "stream",
     "text": [
      "'DataFrame' object has no attribute 'name'\n",
      "update!!!!!!!!!!!! dt:\n"
     ]
    },
    {
     "name": "stderr",
     "output_type": "stream",
     "text": [
      "QUANTAXIS>> 2021-05-18 13:55:39.598855 UPDATE ACCOUNT\n"
     ]
    },
    {
     "name": "stdout",
     "output_type": "stream",
     "text": [
      "'DataFrame' object has no attribute 'name'\n",
      "update!!!!!!!!!!!! dt:\n"
     ]
    },
    {
     "name": "stderr",
     "output_type": "stream",
     "text": [
      "QUANTAXIS>> 2021-05-18 13:55:40.247065 UPDATE ACCOUNT\n"
     ]
    },
    {
     "name": "stdout",
     "output_type": "stream",
     "text": [
      "'DataFrame' object has no attribute 'name'\n",
      "update!!!!!!!!!!!! dt:\n"
     ]
    },
    {
     "name": "stderr",
     "output_type": "stream",
     "text": [
      "QUANTAXIS>> 2021-05-18 13:55:40.876638 UPDATE ACCOUNT\n"
     ]
    },
    {
     "name": "stdout",
     "output_type": "stream",
     "text": [
      "'DataFrame' object has no attribute 'name'\n",
      "update!!!!!!!!!!!! dt:\n"
     ]
    },
    {
     "name": "stderr",
     "output_type": "stream",
     "text": [
      "QUANTAXIS>> 2021-05-18 13:55:40.959456 UPDATE ACCOUNT\n"
     ]
    },
    {
     "name": "stdout",
     "output_type": "stream",
     "text": [
      "'DataFrame' object has no attribute 'name'\n",
      "update!!!!!!!!!!!! dt:\n"
     ]
    },
    {
     "name": "stderr",
     "output_type": "stream",
     "text": [
      "QUANTAXIS>> 2021-05-18 13:55:41.519742 UPDATE ACCOUNT\n"
     ]
    },
    {
     "name": "stdout",
     "output_type": "stream",
     "text": [
      "'DataFrame' object has no attribute 'name'\n",
      "update!!!!!!!!!!!! dt:\n"
     ]
    },
    {
     "name": "stderr",
     "output_type": "stream",
     "text": [
      "QUANTAXIS>> 2021-05-18 13:55:42.178343 UPDATE ACCOUNT\n"
     ]
    },
    {
     "name": "stdout",
     "output_type": "stream",
     "text": [
      "'DataFrame' object has no attribute 'name'\n",
      "update!!!!!!!!!!!! dt:\n"
     ]
    },
    {
     "name": "stderr",
     "output_type": "stream",
     "text": [
      "QUANTAXIS>> 2021-05-18 14:00:01.309335 UPDATE ACCOUNT\n"
     ]
    },
    {
     "name": "stdout",
     "output_type": "stream",
     "text": [
      "'DataFrame' object has no attribute 'name'\n",
      "update!!!!!!!!!!!! dt:\n"
     ]
    },
    {
     "name": "stderr",
     "output_type": "stream",
     "text": [
      "QUANTAXIS>> 2021-05-18 14:01:04.379712 UPDATE ACCOUNT\n"
     ]
    },
    {
     "name": "stdout",
     "output_type": "stream",
     "text": [
      "'DataFrame' object has no attribute 'name'\n",
      "update!!!!!!!!!!!! dt:\n"
     ]
    },
    {
     "name": "stderr",
     "output_type": "stream",
     "text": [
      "QUANTAXIS>> 2021-05-18 14:01:49.360068 UPDATE ACCOUNT\n"
     ]
    },
    {
     "name": "stdout",
     "output_type": "stream",
     "text": [
      "'DataFrame' object has no attribute 'name'\n",
      "update!!!!!!!!!!!! dt:\n"
     ]
    },
    {
     "name": "stderr",
     "output_type": "stream",
     "text": [
      "QUANTAXIS>> 2021-05-18 14:01:51.768179 UPDATE ACCOUNT\n"
     ]
    },
    {
     "name": "stdout",
     "output_type": "stream",
     "text": [
      "'DataFrame' object has no attribute 'name'\n",
      "update!!!!!!!!!!!! dt:\n"
     ]
    },
    {
     "name": "stderr",
     "output_type": "stream",
     "text": [
      "QUANTAXIS>> 2021-05-18 14:01:51.837849 UPDATE ACCOUNT\n"
     ]
    },
    {
     "name": "stdout",
     "output_type": "stream",
     "text": [
      "'DataFrame' object has no attribute 'name'\n",
      "update!!!!!!!!!!!! dt:\n"
     ]
    },
    {
     "name": "stderr",
     "output_type": "stream",
     "text": [
      "QUANTAXIS>> 2021-05-18 14:01:51.982848 UPDATE ACCOUNT\n"
     ]
    },
    {
     "name": "stdout",
     "output_type": "stream",
     "text": [
      "'DataFrame' object has no attribute 'name'\n",
      "update!!!!!!!!!!!! dt:\n"
     ]
    },
    {
     "name": "stderr",
     "output_type": "stream",
     "text": [
      "QUANTAXIS>> 2021-05-18 14:01:52.130410 UPDATE ACCOUNT\n"
     ]
    },
    {
     "name": "stdout",
     "output_type": "stream",
     "text": [
      "'DataFrame' object has no attribute 'name'\n",
      "update!!!!!!!!!!!! dt:\n"
     ]
    },
    {
     "name": "stderr",
     "output_type": "stream",
     "text": [
      "QUANTAXIS>> 2021-05-18 14:01:53.365640 UPDATE ACCOUNT\n"
     ]
    },
    {
     "name": "stdout",
     "output_type": "stream",
     "text": [
      "'DataFrame' object has no attribute 'name'\n",
      "update!!!!!!!!!!!! dt:\n"
     ]
    },
    {
     "name": "stderr",
     "output_type": "stream",
     "text": [
      "QUANTAXIS>> 2021-05-18 14:01:53.488051 UPDATE ACCOUNT\n"
     ]
    },
    {
     "name": "stdout",
     "output_type": "stream",
     "text": [
      "'DataFrame' object has no attribute 'name'\n",
      "update!!!!!!!!!!!! dt:\n"
     ]
    },
    {
     "name": "stderr",
     "output_type": "stream",
     "text": [
      "QUANTAXIS>> 2021-05-18 14:01:54.037696 UPDATE ACCOUNT\n"
     ]
    },
    {
     "name": "stdout",
     "output_type": "stream",
     "text": [
      "'DataFrame' object has no attribute 'name'\n",
      "update!!!!!!!!!!!! dt:\n"
     ]
    },
    {
     "name": "stderr",
     "output_type": "stream",
     "text": [
      "QUANTAXIS>> 2021-05-18 14:05:04.832589 UPDATE ACCOUNT\n"
     ]
    },
    {
     "name": "stdout",
     "output_type": "stream",
     "text": [
      "'DataFrame' object has no attribute 'name'\n",
      "update!!!!!!!!!!!! dt:\n"
     ]
    },
    {
     "name": "stderr",
     "output_type": "stream",
     "text": [
      "QUANTAXIS>> 2021-05-18 14:05:35.487850 UPDATE ACCOUNT\n"
     ]
    },
    {
     "name": "stdout",
     "output_type": "stream",
     "text": [
      "'DataFrame' object has no attribute 'name'\n",
      "update!!!!!!!!!!!! dt:\n"
     ]
    },
    {
     "name": "stderr",
     "output_type": "stream",
     "text": [
      "QUANTAXIS>> 2021-05-18 14:05:39.411156 UPDATE ACCOUNT\n"
     ]
    },
    {
     "name": "stdout",
     "output_type": "stream",
     "text": [
      "'DataFrame' object has no attribute 'name'\n",
      "update!!!!!!!!!!!! dt:\n"
     ]
    },
    {
     "name": "stderr",
     "output_type": "stream",
     "text": [
      "QUANTAXIS>> 2021-05-18 14:05:39.532682 UPDATE ACCOUNT\n"
     ]
    },
    {
     "name": "stdout",
     "output_type": "stream",
     "text": [
      "'DataFrame' object has no attribute 'name'\n",
      "update!!!!!!!!!!!! dt:\n"
     ]
    },
    {
     "name": "stderr",
     "output_type": "stream",
     "text": [
      "QUANTAXIS>> 2021-05-18 14:05:40.317310 UPDATE ACCOUNT\n"
     ]
    },
    {
     "name": "stdout",
     "output_type": "stream",
     "text": [
      "'DataFrame' object has no attribute 'name'\n",
      "update!!!!!!!!!!!! dt:\n"
     ]
    },
    {
     "name": "stderr",
     "output_type": "stream",
     "text": [
      "QUANTAXIS>> 2021-05-18 14:05:40.445867 UPDATE ACCOUNT\n"
     ]
    },
    {
     "name": "stdout",
     "output_type": "stream",
     "text": [
      "'DataFrame' object has no attribute 'name'\n",
      "update!!!!!!!!!!!! dt:\n"
     ]
    },
    {
     "name": "stderr",
     "output_type": "stream",
     "text": [
      "QUANTAXIS>> 2021-05-18 14:05:41.670796 UPDATE ACCOUNT\n"
     ]
    },
    {
     "name": "stdout",
     "output_type": "stream",
     "text": [
      "'DataFrame' object has no attribute 'name'\n",
      "update!!!!!!!!!!!! dt:\n"
     ]
    },
    {
     "name": "stderr",
     "output_type": "stream",
     "text": [
      "QUANTAXIS>> 2021-05-18 14:05:41.810365 UPDATE ACCOUNT\n"
     ]
    },
    {
     "name": "stdout",
     "output_type": "stream",
     "text": [
      "'DataFrame' object has no attribute 'name'\n",
      "update!!!!!!!!!!!! dt:\n"
     ]
    },
    {
     "name": "stderr",
     "output_type": "stream",
     "text": [
      "QUANTAXIS>> 2021-05-18 14:05:41.938911 UPDATE ACCOUNT\n"
     ]
    },
    {
     "name": "stdout",
     "output_type": "stream",
     "text": [
      "'DataFrame' object has no attribute 'name'\n",
      "update!!!!!!!!!!!! dt:\n"
     ]
    },
    {
     "name": "stderr",
     "output_type": "stream",
     "text": [
      "QUANTAXIS>> 2021-05-18 14:05:42.058480 UPDATE ACCOUNT\n"
     ]
    },
    {
     "name": "stdout",
     "output_type": "stream",
     "text": [
      "'DataFrame' object has no attribute 'name'\n",
      "update!!!!!!!!!!!! dt:\n"
     ]
    },
    {
     "name": "stderr",
     "output_type": "stream",
     "text": [
      "QUANTAXIS>> 2021-05-18 14:09:56.397702 UPDATE ACCOUNT\n"
     ]
    },
    {
     "name": "stdout",
     "output_type": "stream",
     "text": [
      "'DataFrame' object has no attribute 'name'\n",
      "update!!!!!!!!!!!! dt:\n"
     ]
    },
    {
     "name": "stderr",
     "output_type": "stream",
     "text": [
      "QUANTAXIS>> 2021-05-18 14:10:04.588237 UPDATE ACCOUNT\n"
     ]
    },
    {
     "name": "stdout",
     "output_type": "stream",
     "text": [
      "'DataFrame' object has no attribute 'name'\n",
      "update!!!!!!!!!!!! dt:\n"
     ]
    },
    {
     "name": "stderr",
     "output_type": "stream",
     "text": [
      "QUANTAXIS>> 2021-05-18 14:10:34.648754 UPDATE ACCOUNT\n"
     ]
    },
    {
     "name": "stdout",
     "output_type": "stream",
     "text": [
      "'DataFrame' object has no attribute 'name'\n",
      "update!!!!!!!!!!!! dt:\n"
     ]
    },
    {
     "name": "stderr",
     "output_type": "stream",
     "text": [
      "QUANTAXIS>> 2021-05-18 14:10:38.042766 UPDATE ACCOUNT\n"
     ]
    },
    {
     "name": "stdout",
     "output_type": "stream",
     "text": [
      "'DataFrame' object has no attribute 'name'\n",
      "update!!!!!!!!!!!! dt:\n"
     ]
    },
    {
     "name": "stderr",
     "output_type": "stream",
     "text": [
      "QUANTAXIS>> 2021-05-18 14:10:38.109709 UPDATE ACCOUNT\n"
     ]
    },
    {
     "name": "stdout",
     "output_type": "stream",
     "text": [
      "'DataFrame' object has no attribute 'name'\n",
      "update!!!!!!!!!!!! dt:\n"
     ]
    },
    {
     "name": "stderr",
     "output_type": "stream",
     "text": [
      "QUANTAXIS>> 2021-05-18 14:10:38.571820 UPDATE ACCOUNT\n"
     ]
    },
    {
     "name": "stdout",
     "output_type": "stream",
     "text": [
      "'DataFrame' object has no attribute 'name'\n",
      "update!!!!!!!!!!!! dt:\n"
     ]
    },
    {
     "name": "stderr",
     "output_type": "stream",
     "text": [
      "QUANTAXIS>> 2021-05-18 14:10:38.724603 UPDATE ACCOUNT\n"
     ]
    },
    {
     "name": "stdout",
     "output_type": "stream",
     "text": [
      "'DataFrame' object has no attribute 'name'\n",
      "update!!!!!!!!!!!! dt:\n"
     ]
    },
    {
     "name": "stderr",
     "output_type": "stream",
     "text": [
      "QUANTAXIS>> 2021-05-18 14:10:38.812373 UPDATE ACCOUNT\n"
     ]
    },
    {
     "name": "stdout",
     "output_type": "stream",
     "text": [
      "'DataFrame' object has no attribute 'name'\n",
      "update!!!!!!!!!!!! dt:\n"
     ]
    },
    {
     "name": "stderr",
     "output_type": "stream",
     "text": [
      "QUANTAXIS>> 2021-05-18 14:10:40.608522 UPDATE ACCOUNT\n"
     ]
    },
    {
     "name": "stdout",
     "output_type": "stream",
     "text": [
      "'DataFrame' object has no attribute 'name'\n",
      "update!!!!!!!!!!!! dt:\n"
     ]
    },
    {
     "name": "stderr",
     "output_type": "stream",
     "text": [
      "QUANTAXIS>> 2021-05-18 14:10:40.735583 UPDATE ACCOUNT\n"
     ]
    },
    {
     "name": "stdout",
     "output_type": "stream",
     "text": [
      "'DataFrame' object has no attribute 'name'\n",
      "update!!!!!!!!!!!! dt:\n"
     ]
    },
    {
     "name": "stderr",
     "output_type": "stream",
     "text": [
      "QUANTAXIS>> 2021-05-18 14:14:58.355290 UPDATE ACCOUNT\n"
     ]
    },
    {
     "name": "stdout",
     "output_type": "stream",
     "text": [
      "'DataFrame' object has no attribute 'name'\n",
      "update!!!!!!!!!!!! dt:\n"
     ]
    },
    {
     "name": "stderr",
     "output_type": "stream",
     "text": [
      "QUANTAXIS>> 2021-05-18 14:15:38.624829 UPDATE ACCOUNT\n"
     ]
    },
    {
     "name": "stdout",
     "output_type": "stream",
     "text": [
      "'DataFrame' object has no attribute 'name'\n",
      "update!!!!!!!!!!!! dt:\n"
     ]
    },
    {
     "name": "stderr",
     "output_type": "stream",
     "text": [
      "QUANTAXIS>> 2021-05-18 14:15:54.747471 UPDATE ACCOUNT\n"
     ]
    },
    {
     "name": "stdout",
     "output_type": "stream",
     "text": [
      "'DataFrame' object has no attribute 'name'\n",
      "update!!!!!!!!!!!! dt:\n"
     ]
    },
    {
     "name": "stderr",
     "output_type": "stream",
     "text": [
      "QUANTAXIS>> 2021-05-18 14:15:55.157579 UPDATE ACCOUNT\n"
     ]
    },
    {
     "name": "stdout",
     "output_type": "stream",
     "text": [
      "'DataFrame' object has no attribute 'name'\n",
      "update!!!!!!!!!!!! dt:\n"
     ]
    },
    {
     "name": "stderr",
     "output_type": "stream",
     "text": [
      "QUANTAXIS>> 2021-05-18 14:15:55.225552 UPDATE ACCOUNT\n"
     ]
    },
    {
     "name": "stdout",
     "output_type": "stream",
     "text": [
      "'DataFrame' object has no attribute 'name'\n",
      "update!!!!!!!!!!!! dt:\n"
     ]
    },
    {
     "name": "stderr",
     "output_type": "stream",
     "text": [
      "QUANTAXIS>> 2021-05-18 14:15:55.792656 UPDATE ACCOUNT\n"
     ]
    },
    {
     "name": "stdout",
     "output_type": "stream",
     "text": [
      "'DataFrame' object has no attribute 'name'\n",
      "update!!!!!!!!!!!! dt:\n"
     ]
    },
    {
     "name": "stderr",
     "output_type": "stream",
     "text": [
      "QUANTAXIS>> 2021-05-18 14:15:56.586384 UPDATE ACCOUNT\n"
     ]
    },
    {
     "name": "stdout",
     "output_type": "stream",
     "text": [
      "'DataFrame' object has no attribute 'name'\n",
      "update!!!!!!!!!!!! dt:\n"
     ]
    },
    {
     "name": "stderr",
     "output_type": "stream",
     "text": [
      "QUANTAXIS>> 2021-05-18 14:16:05.255111 UPDATE ACCOUNT\n"
     ]
    },
    {
     "name": "stdout",
     "output_type": "stream",
     "text": [
      "'DataFrame' object has no attribute 'name'\n",
      "update!!!!!!!!!!!! dt:\n"
     ]
    },
    {
     "name": "stderr",
     "output_type": "stream",
     "text": [
      "QUANTAXIS>> 2021-05-18 14:16:14.467812 UPDATE ACCOUNT\n"
     ]
    },
    {
     "name": "stdout",
     "output_type": "stream",
     "text": [
      "'DataFrame' object has no attribute 'name'\n",
      "update!!!!!!!!!!!! dt:\n"
     ]
    },
    {
     "name": "stderr",
     "output_type": "stream",
     "text": [
      "QUANTAXIS>> 2021-05-18 14:16:15.921324 UPDATE ACCOUNT\n"
     ]
    },
    {
     "name": "stdout",
     "output_type": "stream",
     "text": [
      "'DataFrame' object has no attribute 'name'\n"
     ]
    }
   ],
   "source": [
    "import QUANTAXIS as QA\n",
    "#from QAStrategy.qastockbase import QAStrategyStockBase\n",
    "from qastockbase import QAStrategyStockBase\n",
    "import pprint\n",
    "import time\n",
    "import datetime\n",
    "import pandas as pd\n",
    "import copy\n",
    "\n",
    "class DMI(QAStrategyStockBase):\n",
    "\n",
    "    def user_init(self):\n",
    "        print(\"我是用户初始化。。。。\" + str(self.code))\n",
    "    \n",
    "    def on_dailyopen(self):\n",
    "        print(\"每日开盘运行。。。。\"+str(self.running_time)[0:10])\n",
    "        pass\n",
    "    def on_dailyclose(self):\n",
    "        print(\"每日收盘运行。。。。\")\n",
    "        pass\n",
    "    def on_30min_bar(self,code,newbar):\n",
    "        #dayData = self.getData(self.code, '30m')\n",
    "        datadf = self.formatData(newbar, 30)\n",
    "        lasttime = pd.to_datetime(datadf.index.values[-1])\n",
    "        #跳过\n",
    "        if str(lasttime) != str(self.running_time):\n",
    "            return {}\n",
    "        \n",
    "        #开始策略\n",
    "        dimRst = self.dimBuyOrSell(datadf)\n",
    "        #print(dimRst)\n",
    "        #return\n",
    "        wrRst = self.wrBuyOrSell(datadf)\n",
    "        \n",
    "        if(wrRst == -1 and dimRst == -1) :\n",
    "            print('buy')\n",
    "            self.sendWx(code, 'buy', 5)\n",
    "        elif(wrRst == 1 and dimRst == 1) :\n",
    "            print('sell')\n",
    "            self.sendWx(code,'sell',5)\n",
    "        else :\n",
    "            print('30m:keep')\n",
    "        return {}\n",
    "    def on_15min_bar(self,code,newbar):\n",
    "        \n",
    "        datadf = self.formatData(newbar,15)\n",
    "        lasttime = pd.to_datetime(datadf.index.values[-1])\n",
    "        #跳过\n",
    "        if str(lasttime) != str(self.running_time):\n",
    "            return {}\n",
    "        \n",
    "        #print(datadf)\n",
    "        #开始策略\n",
    "        dimRst = self.dimBuyOrSell(datadf)\n",
    "        #print(dimRst)\n",
    "        #return\n",
    "        wrRst = self.wrBuyOrSell(datadf)\n",
    "        \n",
    "        if(wrRst == -1 and dimRst == -1) :\n",
    "            print('buy')\n",
    "            self.sendWx(code, 'buy', 3)\n",
    "        elif(wrRst == 1 and dimRst == 1) :\n",
    "            print('sell')\n",
    "            self.sendWx(code, 'sell', 3)\n",
    "        else :\n",
    "            print('15m:keep')\n",
    "        return {}\n",
    "    def on_5min_bar(self,code,newbar):\n",
    "        datadf = self.formatData(newbar,5)\n",
    "        lasttime = pd.to_datetime(datadf.index.values[-1])\n",
    "        #跳过\n",
    "        if str(lasttime) != str(self.running_time):\n",
    "            return {}\n",
    "        \n",
    "        #print(datadf)\n",
    "        #开始策略\n",
    "        macdRst = self.macdBuyOrSell(datadf)\n",
    "        dimRst = self.dimBuyOrSell(datadf)\n",
    "        wrRst = self.wrBuyOrSell(datadf)\n",
    "        \n",
    "        if(wrRst == -1 and dimRst == -1 and macdRst == -1) :\n",
    "            print('buy')\n",
    "            self.sendWx(code, 'buy', 2)\n",
    "        elif(wrRst == 1 and dimRst == 1 and macdRst == 1) :\n",
    "            print('sell')\n",
    "            self.sendWx(code, 'sell', 2)\n",
    "        else :\n",
    "            print('5m:keep')\n",
    "        return {}\n",
    "    \n",
    "    # 一个stock code 一个bar\n",
    "    def on_bar(self, bar):\n",
    "        #当前stock code\n",
    "        code = bar.name[1]\n",
    "        newbar = self.get_code_marketdata(code)\n",
    "        rst30minDict = self.on_30min_bar(code,newbar)\n",
    "        rst15minDict = self.on_15min_bar(code,newbar)\n",
    "        rst5minDict = self.on_5min_bar(code,newbar)\n",
    "        \n",
    "        #dmiDay = dayData.add_func(QA.QA_indicator_DMI,12,6)\n",
    "        #print(dmiDay)\n",
    "        #print(self.running_time)\n",
    "        \n",
    "        return \n",
    "        res = self.dmi()\n",
    "        #print('~~~~~~~~~~~~~~~~~~~~~~')\n",
    "        #print(res.iloc[-1])\n",
    "        #print('---------xxxxxxxxxxxx---------')\n",
    "        #print(self.market_data)听听歌c v h vv\n",
    "        '''\n",
    "        if res.MA2[-1] > res.MA5[-1]:\n",
    "\n",
    "            print('LONG')\n",
    "\n",
    "            if self.positions.volume_long == 0:\n",
    "                self.send_order('BUY', 'OPEN', price=bar['close'], volume=1)\n",
    "\n",
    "            if self.positions.volume_short > 0:\n",
    "                self.send_order('BUY', 'CLOSE', price=bar['close'], volume=1)\n",
    "\n",
    "        else:\n",
    "            print('SHORT')\n",
    "            if self.positions.volume_short == 0:\n",
    "                self.send_order('SELL', 'OPEN', price=bar['close'], volume=1)\n",
    "            if self.positions.volume_long > 0:\n",
    "                self.send_order('SELL', 'CLOSE', price=bar['close'], volume=1)\n",
    "        '''\n",
    "    def sendOrder():\n",
    "        return\n",
    "    \n",
    "    \n",
    "    \n",
    "    def wrBuyOrSell(self, dayData) :\n",
    "        wrDay = QA.QA_indicator_WR(dayData,10,6)\n",
    "        #wrDay = dayData.add_func(QA.QA_indicator_WR,10,6)\n",
    "        #print('-------')\n",
    "        #print(wrDay)\n",
    "        #print('uuuuuuu')\n",
    "        #if (wrDay.WR1[-2:])\n",
    "        #print(wrDay['WR1'].values[-1])\n",
    "        if (len(wrDay['WR2'].values)<2):\n",
    "            return 0\n",
    "        if (wrDay['WR2'].values[-1]>=10 and wrDay['WR2'].values[-2]<10\\\n",
    "            and self.almostEquel(wrDay['WR1'].values[-2],wrDay['WR2'].values[-2])\\\n",
    "           ) :\n",
    "            return 1\n",
    "        elif (wrDay['WR2'].values[-1]<=88 and wrDay['WR2'].values[-2]>90\\\n",
    "            and self.almostEquel(wrDay['WR1'].values[-2],wrDay['WR2'].values[-2])\\\n",
    "           ) :\n",
    "            return -1\n",
    "        else :\n",
    "            return 0 \n",
    "    \n",
    "    def dimBuyOrSell(self, dayData) :\n",
    "        f = QA.QA_indicator_DMI(dayData,14,6)\n",
    "        #print(f)\n",
    "        pdi=f['DI1'].values\n",
    "        mdi=f['DI2'].values\n",
    "        adx=f['ADX'].values\n",
    "        adxr=f['ADXR'].values\n",
    "        if (len(pdi)<2):\n",
    "            return 0\n",
    "        hold = 20\n",
    "        if(adx[-1]>=adx[-2] and adx[-2]>=adx[-3] and  adx[-2]>hold \\\n",
    "           and pdi[-1] >mdi[-1] and pdi[-1]<adx[-1] and pdi[-1]<adxr[-1]\\\n",
    "           and mdi[-1]<adx[-1] and mdi[-1]<adxr[-1] \n",
    "          \n",
    "          ) :\n",
    "            return 1\n",
    "        elif (adx[-1]>=adx[-2]  and  adx[-2]>hold \\\n",
    "           and mdi[-1] > pdi[-1] and mdi[-1]<adx[-1] and mdi[-1]<adxr[-1]\\\n",
    "           and pdi[-1]<adx[-1] and pdi[-1]<adxr[-1] \n",
    "          \n",
    "          ) :\n",
    "            return -1\n",
    "        else :\n",
    "            return 0\n",
    "        \n",
    "    def macdBuyOrSell(self, dayData) :\n",
    "        f = QA.QA_indicator_MACD(dayData,12,26,9)\n",
    "        #print(f)\n",
    "        dif = f['DIF'].values\n",
    "        dea = f['DEA'].values\n",
    "        macd = f['MACD'].values\n",
    "        if (len(dif)<1):\n",
    "            return 0\n",
    "        if (macd[-1]<0 and dea[-1]<macd[-1] and dea[-2] < macd[-2]) :\n",
    "            return -1\n",
    "        elif (macd[-1]>0 and dea[-1]>macd[-1] and dea[-2]> macd[-2]) :\n",
    "            return 1\n",
    "        else :\n",
    "            return 0\n",
    "        return 0\n",
    "        \n",
    "    def almostEquel(self, d1,d2):\n",
    "        if (d1-d2 < 4):\n",
    "            return 1\n",
    "        \n",
    "    def dmi(self):\n",
    "        return QA.QA_indicator_DMI(self.market_data,14,6)\n",
    "\n",
    "    def risk_check(self):\n",
    "        pass\n",
    "        # pprint.pprint(self.qifiacc.message)\n",
    "    def sendWx(self,code, target, position):\n",
    "        import requests\n",
    "        ordertime=str(self.running_time)\n",
    "        requests.post(\"http://www.yutiansut.com/signal?user_id=oL-C4w2cSApfgeB6Uy9028RomZp4&template=xiadan_report&strategy_id=test1&realaccount=133496&code=\"+str(code)+\"&order_direction=\"+target+\"&order_offset=OPEN&price=xxx&volume=\"+str(position)+\"成仓&order_time=\"+ordertime)\n",
    "    \n",
    "    def getData(self, stock,frequence):\n",
    "        end =  self.running_time #str(datetime.datetime.now())\n",
    "        if (frequence == \"day\"):\n",
    "            start = QA.QA_util_get_last_day(QA.QA_util_get_real_date(str(datetime.date.today())),30)\n",
    "            data = QA.QA_fetch_stock_day_adv(stock,start=start,end=end).to_qfq()\n",
    "        elif (frequence == \"60m\"):\n",
    "            start = QA.QA_util_get_last_day(QA.QA_util_get_real_date(str(datetime.date.today())),8)\n",
    "            data = QA.QA_fetch_stock_min(stock,start=start,end=end,format='pd',frequence=frequence)\n",
    "        elif (frequence == \"30m\"):\n",
    "            start = QA.QA_util_get_last_day(QA.QA_util_get_real_date(str(datetime.date.today())),4)\n",
    "            data = QA.QA_fetch_stock_min(stock,start=start,end=end,format='pd',frequence=frequence)\n",
    "        elif (frequence == \"15m\"):\n",
    "            start = QA.QA_util_get_last_day(QA.QA_util_get_real_date(str(datetime.date.today())),2)\n",
    "            data = QA.QA_fetch_stock_min(stock,start=start,end=end,format='pd',frequence=frequence)\n",
    "        return data\n",
    "        #print(self.market_data.to_qfq().add_func(QA.QA_indicator_DMI,12,6))\n",
    "        #.add_func(QA.QA_indicator_DMI,12,6)\n",
    "    \n",
    "    #frequenceInt 5,15,30...   \n",
    "    def formatData(self,mydata,frequenceInt):\n",
    "        # 获取复合索引里的某列值\n",
    "        code = mydata._stat_axis.values[0][1]\n",
    "        #将某个索引变为列，并给列名\n",
    "        #mydata = pd.DataFrame(mydata).rename_axis(['code'], axis=1)\n",
    "        #print(pd1['code'])\n",
    "        \n",
    "        #将复合索引的第二个变为列\n",
    "        mydata = mydata.reset_index(1)\n",
    "        #mydata.index = mydata.index.swaplevel()\n",
    "        #mydata.index = mydata.index.droplevel(1)\n",
    "        \n",
    "        \n",
    "        #return \n",
    "        period = str(frequenceInt)+\"T\"\n",
    "        frequence = str(frequenceInt)+\"min\"\n",
    "        ohlc_dict = {                                                                                                             \n",
    "            'open':'first',                                                                                                    \n",
    "            'high':'max',                                                                                                       \n",
    "            'low':'min',                                                                                                        \n",
    "            'close': 'last',                                                                                                    \n",
    "            'volume': 'sum',\n",
    "            #'amount': 'sum'\n",
    "            \n",
    "        }\n",
    "        period = str(frequenceInt)+\"T\"\n",
    "        data = mydata.resample(period, closed='right', label='right').apply(ohlc_dict)\n",
    "        data['code'] = code\n",
    "        data['type'] = frequence\n",
    "        return data.dropna()\n",
    "    \n",
    "    \n",
    "\n",
    "if __name__ == '__main__':\n",
    "    \n",
    "    \n",
    "    #QA.QA_util_get_last_day(QA.QA_util_get_real_date(str(datetime.date.today())),), str(datetime.datetime.now()),\n",
    "    print(datetime.datetime.now())\n",
    "    start = QA.QA_util_get_last_day(QA.QA_util_get_real_date(str(datetime.date.today())),5)\n",
    "    print(start)\n",
    "    end =  str(datetime.datetime.now())\n",
    "    DMI = DMI(code=['002340','000338'], frequence='5min',\n",
    "         strategy_id='x', start=start, end=end)\n",
    "    DMI._debug_sim()\n",
    "    #DMI.run_backtest()\n",
    "    "
   ]
  },
  {
   "cell_type": "code",
   "execution_count": null,
   "metadata": {},
   "outputs": [],
   "source": []
  },
  {
   "cell_type": "code",
   "execution_count": null,
   "metadata": {},
   "outputs": [],
   "source": []
  }
 ],
 "metadata": {
  "kernelspec": {
   "display_name": "Python 3",
   "language": "python",
   "name": "python3"
  },
  "language_info": {
   "codemirror_mode": {
    "name": "ipython",
    "version": 3
   },
   "file_extension": ".py",
   "mimetype": "text/x-python",
   "name": "python",
   "nbconvert_exporter": "python",
   "pygments_lexer": "ipython3",
   "version": "3.8.5"
  }
 },
 "nbformat": 4,
 "nbformat_minor": 4
}
